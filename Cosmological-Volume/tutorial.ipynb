{
 "cells": [
  {
   "cell_type": "markdown",
   "id": "8edc278c",
   "metadata": {},
   "source": [
    "# Simulations of a full cosmological volume\n",
    "\n",
    "This tutorial will take you through the generation of a large-scale cosmological simulation and some analysis of its outputs. You can run this tutorial only after you have followed successfully the instruction in the README. \n"
   ]
  },
  {
   "cell_type": "markdown",
   "id": "555f334b",
   "metadata": {},
   "source": [
    "# 1. Generating initial conditions\n",
    "\n",
    "Generating initial conditions for cosmological N-body simulations roughly boils down to distributing dark matter particles in space in such a way that their density field is statistically consistent with observations (constraints from the CMB, LSS...). This is not a trivial exercise, and different techniques exist (see the review by [Angulo & Hahn, 2022](https://ui.adsabs.harvard.edu/abs/2022LRCA....8....1A/abstract). Here, we will use the [MUSIC code](https://bitbucket.org/ohahn/music/src/master/) and its more recent evolution [monofonic](https://bitbucket.org/ohahn/monofonic/src/master/), which are both established standards in the field.  \n",
    "\n",
    "Both codes require a configuration file which defines the cosmological model, the simulated volume, the particle mass, etc. \n",
    "\n",
    "**Below I use MUSIC only... Monophonic will be added later**\n",
    "\n",
    "## 1.1. setting up MUSIC's parameter file\n",
    "\n",
    "Open the file `MyFirstCosmoSim/ICs/music.conf` file with your favourite editor to have a look at the parameters. Parameters are defined in 5 sections as follows: \n",
    "\n",
    "1. Section `[setup]` defines the basic properties of the simulation. The following parameters are the ones we will vary in this tutorial.\n",
    "```\n",
    "boxlength = 100  # This is the side of the cubic volume in comoving Mpc/h (*mind the /h*)\n",
    "levelmin  = 7    # This is minimum level of the grid. \n",
    "levelmax  = 7    # This should always be equal to levelmax in this tutorial. \n",
    "zstart    = 50   # This is the redshift at which the ICs are computed. \n",
    "baryons   = no   # **I'm not sure what this does, actually !** \n",
    "```\n",
    "The parameters `levelmin` and `levelmax` (which should be equal here) define the number of DM particles in the simulation, that will be $N_p= (2^{l})^3$, where $l=$`levelmax`. Here, we have $l=7$ which means the simulation will contain $128^3$ DM particles, and the same number of coarse cells at initialisation. \n",
    "\n",
    "    The parameter `zstart` should be as small as possible so that density fluctuations are evolved linearly well above numerical noise, but as large as necessary so that no region in the box has departed from the linear regime yet... At very high resolution, tiny fluctuations will collapse very early on and `zstart` should be large. At low resolution, only more massive structures are resolved and they form later, so `zstart` can be larger.\n",
    "    \n",
    "    Other parameters of the `setup` section are described in the MUSIC documentation. \n",
    "\n",
    "\n",
    "2. Section `[cosmology]` defines the cosmological model. \n",
    "\n",
    "3. Section `[random]` provides seeds for the random number generation. These seeds basically define the *phase* of the density fluctuations, level by level. (See exercises in Sec. 5). \n",
    "\n",
    "4. Section `[output]` defines the outputs of MUSIC. As we are using RAMSES, this is more or less fixed as follows:\n",
    "```\n",
    "format      = grafic2\t\n",
    "filename    = ./\n",
    "ramses_nml  = yes\n",
    "```\n",
    "\n",
    "    Here, the `filename` parameter actually defines the directory in which MUSIC will store the initial condition files. You should change this parameter if you wish to generate (and save) different sets of initial conditions.\n",
    "    \n",
    "    With `ramses_nml` parameter, MUSIC offers to generate part of a RAMSES configuration file.  \n",
    "\n",
    "\n",
    "5. Section `[poisson]` define the methods used to evolve the density field to `zstart`. We will keep default values in this tutorial. \n",
    "\n",
    "\n",
    "## 1.2. Running MUSIC \n",
    "We can now run MUSIC to generate initial conditions. In a terminal type the following lines:\n",
    "```\n",
    "cd MyFirstCosmoSim/ICs\n",
    "$MUSICDIR/MUSIC music.conf\n",
    "```\n",
    "This will run music with parameters from the file music.conf. As a result, MUSIC will create the directory  `level_007` that contains the following files:\n",
    "`ic_deltab, ic_poscx, ic_poscy, ic_poscz, ic_velcx, ic_velcy, ic_velcz`. The files `ic_pos*` and `ic_vel*` contain the position and velocities of DM particles. Because we have set `ramses_nml = yes` in the configuration file, MUSIC also generates a RAMSES parameter file named `MyFirstCosmoSim/ICs/ramses.nml` that we will use below. \n",
    "\n"
   ]
  },
  {
   "cell_type": "markdown",
   "id": "23297190",
   "metadata": {},
   "source": [
    "# 2. RAMSES simulation\n",
    "\n",
    "We will now use RAMSES to solve the non-linear Poisson equation. RAMSES also uses a parameter file, which is a *Fortran namelist* (see some brief intro to that [here](http://jules-lsm.github.io/vn4.2/namelists/intro.html)).\n",
    "\n",
    "\n",
    "## 2.1. Setting up RAMSES parameters \n",
    "\n",
    "We provide an example namelist file here: `MyFirstCosmoSim/DarkMatterRun/ramses.nml`. Namelist files are again organised in sections that define parameters related to different parts of the code. (NB: these sections may be provided in any order in the file). The example file we provide has the following sections: \n",
    "\n",
    "1. `RUN_PARAMS`. This section defines some of the most basic properties of the run, and the importnat ones for us here are the following:\n",
    "```\n",
    "cosmo     = .true.  ! We are running a cosmological experiment. \n",
    "pic       = .true.  ! We are using a particle-in-cell algorithm to distribute particle mass into cells\n",
    "poisson   = .true.  ! We wish to solve the Poisson equation\n",
    "hydro     = .false. ! But not the hydro equations (we want DM only so far). \n",
    "```\n",
    "\n",
    "2. `AMR_PARAMS`. This defines the global mesh properties and memory footprint of the code with the following parameters:\n",
    "```\n",
    "levelmin=7          ! this is the lowest level (that in the initial conditions).\n",
    "levelmax=15         ! This is the maximum level of refinement level allowed. \n",
    "nexpand=1           ! is the smoothing of the grid *I don't really know what this is!*\n",
    "ngridtot=300000     ! is the estimated max number of octs in the full volume \n",
    "nparttot=300000     ! is the estimated max number of particles. \n",
    "```\n",
    "\n",
    "3. `INIT_PARAMS` tells RAMSES where to look for initial condition files. \n",
    "```\n",
    "filetype='grafic'               ! We are using the GRAFIC format\n",
    "initfile(1)='../ICs/level_007'  ! relative path to the ICs we generated above. \n",
    "```\n",
    "\n",
    "4. `OUTPUT_PARAMS` defines the output strategy. Here we will save two outputs at $z=0.5$ and $z=0$:\n",
    "```\n",
    "aout=0.5, 1.0\n",
    "noutput=2\n",
    "```\n",
    "\n",
    "5. `REFINE_PARAMS` defines the refinement strategy. Here we implement a pseudo-Lagrangian refinement, were any cell with more than 8 particles is refined (into 8 cells).\n",
    "```\n",
    "m_refine=6*8.,\n",
    "```\n",
    "The syntax above says that we repeat the same criterion at all levels (7, 8, 9, 10, ...)\n",
    "\n",
    "\n",
    "Note that the `ramses.nml` file that we provide in `MyFirstCosmoSim/DarkMatterRun/` is very similar to that produced by MUSIC (`MyFirstCosmoSim/ICs/ramses.nml`). The only difference is the `OUTPUT_PARAMS` that are not provided by MUSIC. \n",
    "\n",
    "\n",
    "\n",
    "## 2.2. Running RAMSES \n",
    "\n",
    "To run, type:\n",
    "  ```\n",
    "  cd MyFirstCosmoSim/DarkMatterRun\n",
    "  $RAMSESDIR/bin/ramses3d ramses.nml \n",
    "  ```\n",
    "  or, if you compiled with MPI and have 5 cores available: \n",
    "  ```\n",
    "  cd MyFirstCosmoSim/DarkMatterRun\n",
    "  mpirun -np 5 $RAMSESDIR/bin/ramses3d MyCosmoSim.nml\n",
    "  ```\n",
    "  \n",
    "This may take some time. When the run is complete, the directory `MyFirstCosmoSim/DarkMatterRun` will contain three new directories `output_00001` to `output_00003`. RAMSES outputs are numbered starting at 1 for the initial conditions. The directories `output_00002` and `output_00003` are the outputs we specified in the namelist file, and should be at $z=0.5$ and $z=0$. You can check this by looking at the information text file `output_*/info_*.txt`. For example, the following command \n",
    "```\n",
    "grep aexp output_00003/info_00003.txt\n",
    "\n",
    "```\n",
    "will return `aexp =  0.100498362525257E+01` which is roughly at $z=0$. \n"
   ]
  },
  {
   "cell_type": "markdown",
   "id": "634a0c43",
   "metadata": {},
   "source": [
    "# 3. Data analysis out the output generated:\n",
    "We will work in python and use (among others) [Pylians](https://pylians3.readthedocs.io/en/master/index.html) and [yt](https://yt-project.org/), to install them, some usefull information may be found  [here](https://pylians3.readthedocs.io/en/master/installation.html) and [here](https://yt-project.org/doc/installing.html).\n",
    "We will now follow this  [notebook](./cosmology_ramses.ipynb) to analyse the data produced by the simulation.\n"
   ]
  },
  {
   "cell_type": "code",
   "execution_count": null,
   "id": "aeb153f7",
   "metadata": {},
   "outputs": [],
   "source": [
    "import yt\n",
    "yt.funcs.mylog.setLevel(\"ERROR\")  ## stop yt from being to verbosy\n",
    "\n",
    "import yt_astro_analysis\n",
    "from yt.extensions.astro_analysis.halo_analysis import HaloCatalog\n",
    "\n",
    "import matplotlib.pyplot as plt\n",
    "from matplotlib.colors import LogNorm \n",
    "import numpy as np\n",
    "import astropy.units as u"
   ]
  },
  {
   "cell_type": "markdown",
   "id": "21d3d0eb",
   "metadata": {},
   "source": [
    "## 3.0. Load and explore the data with yt "
   ]
  },
  {
   "cell_type": "code",
   "execution_count": null,
   "id": "4ca4597e",
   "metadata": {},
   "outputs": [],
   "source": [
    "# load data from snapshot 3 (i.e. z ~ 0)\n",
    "snap    = 3\n",
    "snapstr = \"%05d\" % snap\n",
    "path    = 'MyFirstCosmoSim/DarkMatterRun/'\n",
    "ds      = yt.load(path+'output_'+snapstr+'/info_'+snapstr+'.txt')"
   ]
  },
  {
   "cell_type": "code",
   "execution_count": null,
   "id": "968972d2",
   "metadata": {},
   "outputs": [],
   "source": [
    "#get some info on the simulation\n",
    "ds.parameters"
   ]
  },
  {
   "cell_type": "code",
   "execution_count": null,
   "id": "25299eec",
   "metadata": {},
   "outputs": [],
   "source": [
    "# checkout the number of cells \n",
    "ds.print_stats()"
   ]
  },
  {
   "cell_type": "code",
   "execution_count": null,
   "id": "9e2e2a9e",
   "metadata": {},
   "outputs": [],
   "source": [
    "# show fields contained in the data\n",
    "for field in sorted(ds.field_list):\n",
    "    print(field)"
   ]
  },
  {
   "cell_type": "code",
   "execution_count": null,
   "id": "d0765d04",
   "metadata": {},
   "outputs": [],
   "source": [
    "#access data\n",
    "ad = ds.all_data()\n",
    "print(ad[('all', 'particle_position_x')].to('Mpc'))\n",
    "print(ad[('gravity', 'Potential')])"
   ]
  },
  {
   "cell_type": "markdown",
   "id": "40ae4913",
   "metadata": {},
   "source": [
    "## 3.1. Maps of the simulation volume\n"
   ]
  },
  {
   "cell_type": "markdown",
   "id": "52693366",
   "metadata": {},
   "source": [
    "### 3.1.1. We use yt's methods to display a projected mass map "
   ]
  },
  {
   "cell_type": "code",
   "execution_count": null,
   "id": "d04ede97",
   "metadata": {},
   "outputs": [],
   "source": [
    "# plot the density map\n",
    "p = yt.ParticlePlot(ds,'particle_position_x','particle_position_y','particle_mass',density=True)\n",
    "p.set_figure_size((5,5))\n",
    "p.set_buff_size(512)\n",
    "p.set_unit('particle_mass', \"Msun/kpc**2\")\n",
    "p.show()"
   ]
  },
  {
   "cell_type": "markdown",
   "id": "3c3ba75b",
   "metadata": {},
   "source": [
    "### 3.1.2. We construct the density map ourselves with numpy "
   ]
  },
  {
   "cell_type": "code",
   "execution_count": null,
   "id": "96e343c7",
   "metadata": {},
   "outputs": [],
   "source": [
    "# extract coordinates and masses of particles \n",
    "px = ds.all_data()['particle_position_x'].to('Mpc').value\n",
    "py = ds.all_data()['particle_position_y'].to('Mpc').value\n",
    "pm = ds.all_data()['particle_mass'].to('Msun').value\n",
    "# define the range of the image (in Mpc)\n",
    "xmin = ds.domain_left_edge[0].to('Mpc').value\n",
    "xmax = ds.domain_right_edge[0].to('Mpc').value\n",
    "ymin = ds.domain_left_edge[1].to('Mpc').value\n",
    "ymax = ds.domain_right_edge[1].to('Mpc').value\n",
    "# define the resolution of the image (nb of pixels on a side)\n",
    "npix = 512\n",
    "\n",
    "# compute the mass in each pixel (2d histogram)\n",
    "h,xe,ye = np.histogram2d(px,py,weights=pm,bins=(npix,npix),range=[[xmin,xmax],[ymin,ymax]])\n",
    "# divide by area of pixels \n",
    "dx, dy = (xe[1]-xe[0])*1e3, (ye[1]-ye[0])*1e3 # [kpc]\n",
    "h = h / dx / dy  # [Msun / kpc^2]"
   ]
  },
  {
   "cell_type": "code",
   "execution_count": null,
   "id": "eaac84f0",
   "metadata": {},
   "outputs": [],
   "source": [
    "plt.figure(figsize=(7,7))\n",
    "plt.imshow(h.T,origin='lower',norm=LogNorm(vmax=h.max()/2.,vmin=h[h>0].min()*2),interpolation='none',cmap='plasma',\\\n",
    "          extent=(xmin,xmax,ymin,ymax))\n",
    "plt.xlabel('x [Mpc]',fontsize=12)\n",
    "plt.ylabel('y [Mpc]',fontsize=12)\n",
    "cb = plt.colorbar(location='right',fraction=0.04,pad=0.01)\n",
    "cb.set_label(r'M$_\\odot$ / kpc$^2$',fontsize=12)"
   ]
  },
  {
   "cell_type": "markdown",
   "id": "c8a735cf",
   "metadata": {},
   "source": [
    "### 3.1.3. Map of the gravitational potential field \n",
    "**Some guidelines/explanations are needed here...** \n",
    "\n",
    "Also, could we plot flow lines of the DM particles on top of the potential map ? 🤩"
   ]
  },
  {
   "cell_type": "code",
   "execution_count": null,
   "id": "2d06e27b",
   "metadata": {},
   "outputs": [],
   "source": [
    "q1 = yt.SlicePlot(ds, \"z\",('gravity', 'Potential'))\n",
    "q1.show()"
   ]
  },
  {
   "cell_type": "markdown",
   "id": "87af0ce6",
   "metadata": {},
   "source": [
    "## 3.2. Dark matter halos \n",
    "\n",
    "### 3.2.1. Halo detection \n",
    "For simplicity we will use the friends-of-friends (FOF) algorithm implemented in yt_astro_analysis. NB: The cell below actually runs the halo detection and may take time. If this has run once, you may skip the loading the halos one cell below. "
   ]
  },
  {
   "cell_type": "code",
   "execution_count": null,
   "id": "555ff885",
   "metadata": {},
   "outputs": [],
   "source": [
    "# identify Halos with yt's FOF halo finder. \n",
    "hc   = HaloCatalog(data_ds=ds, finder_method='fof', output_dir='MyFirstCosmoSim/DarkMatterRun/Halos')\n",
    "hc.create()"
   ]
  },
  {
   "cell_type": "markdown",
   "id": "f6b59b9c",
   "metadata": {},
   "source": [
    "The cell above should have created a halo catalog file `MyFirstCosmoSim/DarkMatterRun/Halos/info_00003/info_00003.0.h5`. We now load this file and overplot halos on the DM density map."
   ]
  },
  {
   "cell_type": "code",
   "execution_count": null,
   "id": "0e840d55",
   "metadata": {},
   "outputs": [],
   "source": [
    "# we now load the halo catalog\n",
    "hds = yt.load('MyFirstCosmoSim/DarkMatterRun/Halos/info_%5.5i/info_%5.5i.0.h5'%(snap,snap))\n",
    "hc  = HaloCatalog(data_ds=ds,halos_ds=hds)"
   ]
  },
  {
   "cell_type": "code",
   "execution_count": null,
   "id": "5f25fc6f",
   "metadata": {},
   "outputs": [],
   "source": [
    "# and plot halos as circles on top of a mass map\n",
    "p = yt.ParticlePlot(ds,'particle_position_x','particle_position_y','particle_mass')\n",
    "p.set_unit('particle_mass', 'Msun')\n",
    "p.annotate_halos(hc)"
   ]
  },
  {
   "cell_type": "markdown",
   "id": "83bae4c1",
   "metadata": {},
   "source": [
    "### 3.2.2. Make a density map of the most massive halo "
   ]
  },
  {
   "cell_type": "code",
   "execution_count": null,
   "id": "94054dfa",
   "metadata": {},
   "outputs": [],
   "source": [
    "# I don't know how to do that with yt ... \n",
    "\n",
    "ad    = hds.all_data()\n",
    "haloM = ad[\"halos\", \"particle_mass\"].to(\"Msun\")\n",
    "maxHaloID = np.where(haloM == haloM.max())[0][0]\n",
    "halo = hds.halo(\"halos\", maxHaloID)\n",
    "\n"
   ]
  },
  {
   "cell_type": "markdown",
   "id": "4fec4117",
   "metadata": {},
   "source": [
    "### 3.2.3. Compute/plot the distribution of spin paramters "
   ]
  },
  {
   "cell_type": "code",
   "execution_count": null,
   "id": "44f5db74",
   "metadata": {},
   "outputs": [],
   "source": []
  },
  {
   "cell_type": "markdown",
   "id": "2f0885bf",
   "metadata": {},
   "source": [
    "### 3.2.4 Halo mass function"
   ]
  },
  {
   "cell_type": "code",
   "execution_count": null,
   "id": "bfcb42af",
   "metadata": {},
   "outputs": [],
   "source": [
    "# extract halo masses (in Msun units)\n",
    "halo_masses = hc.halos_ds.all_data()['particle_mass'].to('Msun')"
   ]
  },
  {
   "cell_type": "code",
   "execution_count": null,
   "id": "363a6ed2",
   "metadata": {},
   "outputs": [],
   "source": [
    "# Compute the simulation volume in comoving Mpc\n",
    "SimVolume_proper = ds.domain_width[0].to('Mpc')**3\n",
    "SimVolume_comov  = SimVolume_proper / ds.parameters['aexp']**3 "
   ]
  },
  {
   "cell_type": "code",
   "execution_count": null,
   "id": "3046218a",
   "metadata": {},
   "outputs": [],
   "source": [
    "# Compute the mass function\n",
    "h,xe = np.histogram(np.log10(halo_masses),bins=50,range=(10,16))\n",
    "xmid = 0.5*(xe[:-1]+xe[1:]) # center of bins [Msun]\n",
    "dh   = np.sqrt(h) # Poisson noise\n",
    "normalisation = 1. / SimVolume_comov.value / (xmid[1]-xmid[0])\n",
    "h    = h * normalisation   # nb of halos per cMpc^3 per dLogM\n",
    "dh   = dh * normalisation \n",
    "\n",
    "# plot the HMF with Poisson error bars\n",
    "plt.errorbar(xmid,h,yerr=dh,xerr=0.5*(xmid[1]-xmid[0]),elinewidth=1,capsize=2,\n",
    "             ecolor='k',linestyle='none')\n",
    "# add vertical lines marking 20,100, and 500 times the particle mass in the simulation\n",
    "plt.axvline(np.log10(20*ds.all_data()['particle_mass'][0].to('Msun')),ls=':',c='k',lw=0.5,label=r'20 m$_p$')\n",
    "plt.axvline(np.log10(100*ds.all_data()['particle_mass'][0].to('Msun')),ls='--',c='k',lw=0.5,label=r'100 m$_p$')\n",
    "plt.axvline(np.log10(300*ds.all_data()['particle_mass'][0].to('Msun')),ls='-',c='k',lw=0.5,label=r'500 m$_p$')\n",
    "# add a horizontal line marking the density corresponding to 1 halo in the simulation\n",
    "plt.axhline(normalisation,color='g',lw=1,ls='-',label='1 halo per box')\n",
    "# make the plot pretty\n",
    "plt.xlim(11,16)\n",
    "plt.ylim(1e-10,1e-1)\n",
    "plt.xlabel(r'Log$_{10}$ (M$_h$) [M$_\\odot$]',fontsize=13)\n",
    "plt.ylabel(r'dN/dLog$_{10}$M [cMpc$^{-3}$]',fontsize=13)\n",
    "plt.yscale('log')\n",
    "\n",
    "# Add models from Collossus \n",
    "from colossus.lss import mass_function\n",
    "from colossus.cosmology import cosmology\n",
    "cosmology.setCosmology('planck18')\n",
    "little_h = cosmology.current_cosmo.H0/100.\n",
    "redshift = ds.current_redshift\n",
    "HMF_T = mass_function.massFunction(10.**xmid*little_h, redshift, mdef = 'fof', model = 'warren06',q_out = 'dndlnM')\n",
    "plt.plot(xmid, HMF_T,label=\"Warren+06\",c='r',alpha=0.5)\n",
    "hush  = plt.legend()"
   ]
  },
  {
   "cell_type": "markdown",
   "id": "e8a5adb3",
   "metadata": {},
   "source": [
    "Notice on the plot above how the simulation deviates from theoretical expectations (or actually fits from higher-resolution simulations) at low masses. Halos with less than a few 100 particles are affected by resolution and their population is incomplete, which leads to a systematic under-estimation of the halo mass function. "
   ]
  },
  {
   "cell_type": "markdown",
   "id": "bfcff7ba",
   "metadata": {},
   "source": [
    "## 3.3. Power spectrum"
   ]
  },
  {
   "cell_type": "code",
   "execution_count": null,
   "id": "e723e937",
   "metadata": {},
   "outputs": [],
   "source": []
  },
  {
   "cell_type": "code",
   "execution_count": null,
   "id": "ef492dc0",
   "metadata": {},
   "outputs": [],
   "source": []
  },
  {
   "cell_type": "markdown",
   "id": "33ee9b37",
   "metadata": {},
   "source": [
    "# 4. More fun. \n",
    "\n",
    "Here we suggest exercises to explore various aspects of cosmological simulations. \n",
    "\n",
    "1. **Cosmic variance**. Run simulations on ICs generated with different seeds. Measure the halo mass function and see how it changes. \n",
    "\n",
    "2. **Random seeds**. It is also instructive to run simulations which share the same realisation of density fluctuations on large scales, but that differ on small scales. This can be done easily with MUSIC's `[random]` section in the configuration file. Try generating ICs with seed[7]=12345, and different values for seed[8] (and higher). Run the simulations and discuss. \n",
    "\n",
    "3. **Resolution effects**. The mass resolution (particle mass) has a strong impact on the population of DM halos that form in a simulation. While it is not practical to increase the number of particles here, we can instead change the volume of the simulation to probe this effect. Run simulations with a fixed number of particles and different volumes. Plot the halo mass functions to compare them. \n",
    "\n",
    "4. **DM concentration**. Dark matter is dissipationless and will thus not condense into arbitrary large densities. You can see this by running RAMSES simulations with different values of `levelmax`. Try a very large value (e.g. 20) and see if the simulation reaches that. Careful, though, if you turn on dissipative hydro, the gas *will* collapse as far as you allow. \n",
    "\n",
    "5. **ngridmax and ngridtot** ... Should we explore these things ?  \n",
    "\n",
    "6. **Adding gas...** Run an adiabatic simulation with gas. And one with cooling turned on (but no SF?). \n"
   ]
  },
  {
   "cell_type": "code",
   "execution_count": null,
   "id": "e2122ddc",
   "metadata": {},
   "outputs": [],
   "source": []
  }
 ],
 "metadata": {
  "kernelspec": {
   "display_name": "Python 3 (ipykernel)",
   "language": "python",
   "name": "python3"
  },
  "language_info": {
   "codemirror_mode": {
    "name": "ipython",
    "version": 3
   },
   "file_extension": ".py",
   "mimetype": "text/x-python",
   "name": "python",
   "nbconvert_exporter": "python",
   "pygments_lexer": "ipython3",
   "version": "3.10.14"
  }
 },
 "nbformat": 4,
 "nbformat_minor": 5
}
