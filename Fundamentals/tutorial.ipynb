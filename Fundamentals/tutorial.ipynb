{
 "cells": [
  {
   "cell_type": "markdown",
   "id": "6884ca7a",
   "metadata": {},
   "source": [
    "# RAMSES Fundamentals"
   ]
  },
  {
   "cell_type": "markdown",
   "id": "80f1d268",
   "metadata": {},
   "source": [
    "## 1. Prerequisites\n",
    "\n",
    "### compilers\n",
    "\n",
    "You will need a **fortran compiler** to compile RAMSES, along with some version of **MPI** if you have access to multiple cores and want to run RAMSES in parallel.\n",
    "\n",
    "We recommend installing recent versions of `gcc` (incl. `gfortran`) and `openmpi`. \n",
    "\n",
    "\n",
    "### python\n",
    "\n",
    "The tutorials require running `python3` in a `Jupyter notebook`. \n",
    "\n",
    "We will use a the following python packages: \n",
    "```\n",
    "numpy, astropy, matplotlib\n",
    "```\n",
    "\n",
    "Depending on the tutorials, different analysis tools will also be used, including : \n",
    "```\n",
    "yt, yt_astro_analysis, colossus, osiris, ... \n",
    "```"
   ]
  },
  {
   "cell_type": "markdown",
   "id": "7cc6788f",
   "metadata": {},
   "source": [
    "## 2. Getting RAMSES\n",
    "\n",
    "The RAMSES code is available on github.com and the best practice is to get the code by cloning the repository on your computer with one of the following commands. If you did not set up an ssh key on github, use:\n",
    "```\n",
    "git clone https://github.com/ramses-organisation/ramses.git\n",
    "```\n",
    "if you do have an ssh key set up (recommended) you can use the following command instead:\n",
    "```\n",
    "git clone git@github.com:ramses-organisation/ramses.git\n",
    "```\n",
    "\n",
    "This will create a `ramses` directory containing the code. By default git gives you the stable branch, which is the one you should use for the tutorials. In order to check which branch of the code you are using, you may type: \n",
    "```\n",
    "cd ramses\n",
    "git branch\n",
    "``` \n",
    "This should return:\n",
    "```\n",
    "* stable\n",
    "```\n",
    "\n",
    "Should you just want a copy of the code, without using git (this is not recommended), you may also download that directly from the github website https://github.com/ramses-organisation/ramses (click on the \"<> Code\" green button, and then \"Download ZIP\")."
   ]
  },
  {
   "cell_type": "markdown",
   "id": "cc9b1412",
   "metadata": {},
   "source": [
    "## 3. Compiling RAMSES\n",
    "\n",
    "\n",
    "\n",
    "\n",
    "```\n",
    "cd ramses/bin\n",
    "make clean\n",
    "make NDIM=3 MPI=1 PATCH=../patch/init/dice/ EXEC=ramses-dice\n",
    "```"
   ]
  },
  {
   "cell_type": "code",
   "execution_count": null,
   "id": "4c2c694a",
   "metadata": {},
   "outputs": [],
   "source": []
  }
 ],
 "metadata": {
  "kernelspec": {
   "display_name": "Python 3 (ipykernel)",
   "language": "python",
   "name": "python3"
  },
  "language_info": {
   "codemirror_mode": {
    "name": "ipython",
    "version": 3
   },
   "file_extension": ".py",
   "mimetype": "text/x-python",
   "name": "python",
   "nbconvert_exporter": "python",
   "pygments_lexer": "ipython3",
   "version": "3.10.14"
  }
 },
 "nbformat": 4,
 "nbformat_minor": 5
}
