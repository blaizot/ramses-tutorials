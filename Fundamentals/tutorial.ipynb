{
 "cells": [
  {
   "cell_type": "markdown",
   "id": "329d37c9",
   "metadata": {},
   "source": [
    "# RAMSES Fundamentals"
   ]
  },
  {
   "cell_type": "markdown",
   "id": "419b066b",
   "metadata": {},
   "source": [
    "## 1. Prerequisites\n",
    "\n",
    "### 1.1. On your personal computer\n",
    "\n",
    "### compilers\n",
    "\n",
    "You will need a **fortran compiler** to compile RAMSES, along with some version of **MPI** if you have access to multiple cores and want to run RAMSES in parallel.\n",
    "\n",
    "We recommend installing recent versions of the GNU fortran compiler [`gfortran`](https://gcc.gnu.org/fortran/) and [`openmpi`](https://www.open-mpi.org/). \n",
    "\n",
    "\n",
    "### python\n",
    "\n",
    "The tutorials require running `python3` in a `Jupyter notebook`. \n",
    "\n",
    "We will use a the following python packages: \n",
    "```\n",
    "numpy, astropy, matplotlib\n",
    "```\n",
    "\n",
    "Depending on the tutorials, different analysis tools will also be used, including : \n",
    "```\n",
    "yt, yt_astro_analysis, colossus, osiris, ... \n",
    "```\n",
    "\n",
    "### 1.2. On a supercomputer\n",
    "\n",
    "Here, fortran compilers and MPI libraries will generally be installed and you need to find out how to use them. Often, this is done by loading modules ... **GIVE EXAMPLES** "
   ]
  },
  {
   "cell_type": "markdown",
   "id": "df4e44d5",
   "metadata": {},
   "source": [
    "## 2. First steps with RAMSES\n",
    "\n",
    "In order to **obtain and compile the code**, please follow the first steps of the documentation at [this link](https://ramses-organisation.readthedocs.io/en/latest/wiki/Start.html)."
   ]
  },
  {
   "cell_type": "markdown",
   "id": "4f74196a",
   "metadata": {},
   "source": [
    "## 3. Exercise 1"
   ]
  },
  {
   "cell_type": "code",
   "execution_count": null,
   "id": "96a39f74",
   "metadata": {},
   "outputs": [],
   "source": []
  }
 ],
 "metadata": {
  "kernelspec": {
   "display_name": "Python 3 (ipykernel)",
   "language": "python",
   "name": "python3"
  },
  "language_info": {
   "codemirror_mode": {
    "name": "ipython",
    "version": 3
   },
   "file_extension": ".py",
   "mimetype": "text/x-python",
   "name": "python",
   "nbconvert_exporter": "python",
   "pygments_lexer": "ipython3",
   "version": "3.10.14"
  }
 },
 "nbformat": 4,
 "nbformat_minor": 5
}
