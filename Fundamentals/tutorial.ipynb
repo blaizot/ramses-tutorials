{
 "cells": [
  {
   "cell_type": "markdown",
   "id": "329d37c9",
   "metadata": {},
   "source": [
    "# RAMSES Fundamentals"
   ]
  },
  {
   "cell_type": "markdown",
   "id": "419b066b",
   "metadata": {},
   "source": [
    "## 1. Prerequisites\n",
    "\n",
    "**Note: I (Marion) copied and summarised the 1.1 and 1.2 below under the \"Setting up\" section of the SNO tuto's doc.**\n",
    "\n",
    "### 1.1. On your personal computer\n",
    "\n",
    "### Compilers\n",
    "\n",
    "You will need a **fortran compiler** to compile RAMSES, along with some version of **MPI** if you have access to multiple cores and want to run RAMSES in parallel. You can refer to the **Instructions to get started on your laptop** section for some information about how to install those.\n",
    "\n",
    "We recommend installing recent versions of the GNU fortran compiler `gfortran` [(link)](https://gcc.gnu.org/fortran/) and `openmpi` [(link)](https://www.open-mpi.org/).\n",
    "\n",
    "\n",
    "### Python\n",
    "\n",
    "The tutorials require running `python3` in a `Jupyter notebook`. \n",
    "\n",
    "We will use a the following python packages: \n",
    "```\n",
    "numpy, astropy, matplotlib\n",
    "```\n",
    "\n",
    "Depending on the tutorials, different analysis tools will also be used, including : \n",
    "```\n",
    "yt, yt_astro_analysis, colossus, osiris, ... \n",
    "```\n",
    "\n",
    "### 1.2. On a supercomputer\n",
    "\n",
    "Here, fortran compilers and MPI libraries will generally be installed and you need to find out how to use them. Often, this is done by loading modules ... **GIVE EXAMPLES** "
   ]
  },
  {
   "cell_type": "markdown",
   "id": "df4e44d5",
   "metadata": {},
   "source": [
    "## 2. First steps with RAMSES\n",
    "\n",
    "RAMSES [(Teyssier 2002)](https://ui.adsabs.harvard.edu/abs/2002A%26A...385..337T/abstract) is a popular code used to produce astrophysical simulations, using the adaptive mesh refinement (AMR) numerical technique, together with state-of-the art star formation and feedback models. Each directory contains a set of files with a given common purpose. For example, amr/ contains all Fortran 90 routines dealing with the AMR grid management and MPI communications, while hydro/ obviously contains all Fortran 90 routines dealing with hydrodynamics. RAMSES is written in Fortran 90, which can be used on massively parallel architectures thanks to the MPI library (MPI stands for Message Passing Interface). Therefore, before producing RAMSES simulations, we need to compile the RAMSES code, as explained below.\n",
    "\n",
    "In order to **obtain and compile the code**, you can follow the first steps of the documentation at [this link](https://ramses-organisation.readthedocs.io/en/latest/wiki/Start.html), summarised (and updated) below.\n",
    "\n",
    "### 2.1 Downloading the code\n",
    "\n",
    "To get the RAMSES code, open a terminal, and clone the code with the following command:\n",
    "\n",
    "```bash\n",
    "git clone https://github.com/ramses-organisation/ramses\n",
    "```\n",
    "\n",
    "### 2.2 Compiling the code\n",
    "\n",
    " The first directory you are interested in is the bin/ directory, in which the code will be compiled thanks to the set of instructions written in the `Makefile`.\n",
    "\n",
    "```bash\n",
    "cd ramses/bin\n",
    "cat Makefile\n",
    "```\n",
    "\n",
    "The first lines of the Makefile correspond to the so-called *Compilation Time Parameters*. They are used to:\n",
    "\n",
    "- set the type of compiler to be used, the name of the RAMSES executable\n",
    "\n",
    "- define the number of dimensions and the total number of variables needed for the simulation\n",
    "\n",
    "- enable or disable the compilation of some of the physical modules, of the MPI routines \n",
    "\n",
    "Other preprocessor directives are then defined below, in the variable `DEFINES`.\n",
    "\n",
    "Based on the choice of compiler (`COMPILER=GNU` or `INTEL`), Fortran compiler options and directives are defined. The `F90` variable invokes the Fortran compiler (also depends on the use of MPI), while `FFLAGS` contains other compilation flags and preprocessor directives (also depends on the use of debug options). While both `F90` and `FFLAGS` can be set up using default values, one might need or want to edit them according to the compiler, the machine, or the simulation. In this case, you can manually edit `F90` and `FFLAGS` in the Makefile.\n",
    "\n",
    "Finally, the rest of the Makefile contains the list and path of the files to be compiled.\n",
    "\n",
    "Once the Makefile is ready, you can (re)compile the code:\n",
    "```bash\n",
    "make clean\n",
    "make\n",
    "```\n",
    "\n",
    "### 2.3 The namelist\n",
    "\n",
    "Maybe quickly explain what it is here?"
   ]
  },
  {
   "cell_type": "markdown",
   "id": "4f74196a",
   "metadata": {},
   "source": [
    "## 3. Exercise 1"
   ]
  },
  {
   "cell_type": "code",
   "execution_count": null,
   "id": "96a39f74",
   "metadata": {},
   "outputs": [],
   "source": []
  }
 ],
 "metadata": {
  "kernelspec": {
   "display_name": "Python 3 (ipykernel)",
   "language": "python",
   "name": "python3"
  },
  "language_info": {
   "codemirror_mode": {
    "name": "ipython",
    "version": 3
   },
   "file_extension": ".py",
   "mimetype": "text/x-python",
   "name": "python",
   "nbconvert_exporter": "python",
   "pygments_lexer": "ipython3",
   "version": "3.9.6"
  }
 },
 "nbformat": 4,
 "nbformat_minor": 5
}
