{
 "cells": [
  {
   "cell_type": "markdown",
   "id": "329d37c9",
   "metadata": {},
   "source": [
    "# RAMSES Fundamentals"
   ]
  },
  {
   "cell_type": "markdown",
   "id": "419b066b",
   "metadata": {},
   "source": [
    "## 1. Prerequisites\n",
    "\n",
    "You will need a `fortran compiler` to compile RAMSES, along with some version of `MPI` if you have access to multiple cores and want to run RAMSES in parallel. The tutorials require running `python3` in a `Jupyter notebook`, and will use different python packages and analysis tools (see the prerequisites section of each tutorial). This 'Fundamentals' tutorial specifically requires the Osyris package for visualization of RAMSES results. \n",
    "\n",
    "For getting all this set up, we recommend that you start by following the instructions in [setting up a complete environment with conda](https://ramses-tutorials.readthedocs.io/en/latest/Setup/conda-setup.html), and then refer to the [Instructions to get started on the CBP machine](https://ramses-tutorials.readthedocs.io/en/latest/Setup/CBP.html) or [Instructions to get started on your laptop](https://ramses-tutorials.readthedocs.io/en/latest/Setup/laptop.html) sections, according to your needs."
   ]
  },
  {
   "cell_type": "markdown",
   "id": "df4e44d5",
   "metadata": {},
   "source": [
    "## 2. First steps with RAMSES\n",
    "\n",
    "RAMSES [(Teyssier 2002)](https://ui.adsabs.harvard.edu/abs/2002A%26A...385..337T/abstract) is a popular code used to produce astrophysical simulations, using the adaptive mesh refinement (AMR) numerical technique, together with state-of-the art star formation and feedback models. Each directory contains a set of files with a given common purpose. For example, amr/ contains all Fortran 90 routines dealing with the AMR grid management and MPI communications, while hydro/ contains all Fortran 90 routines dealing with hydrodynamics. RAMSES is written in Fortran 90, which can be used on massively parallel architectures thanks to the MPI library (MPI stands for Message Passing Interface). Therefore, before producing RAMSES simulations, we need to compile the RAMSES code, as explained below.\n",
    "\n",
    "In order to **obtain and compile the code**, you can follow the first steps of the documentation at [this link](https://ramses-organisation.readthedocs.io/en/latest/wiki/Start.html), summarised (and updated) below.\n",
    "\n",
    "### 2.1 Downloading the code\n",
    "\n",
    "To get the RAMSES code, open a terminal, and clone the code into the Fundamentals sub-directory:\n"
   ]
  },
  {
   "cell_type": "code",
   "execution_count": null,
   "id": "0173011c",
   "metadata": {
    "vscode": {
     "languageId": "shellscript"
    }
   },
   "outputs": [],
   "source": [
    "%%bash\n",
    "git clone https://github.com/ramses-organisation/ramses\n"
   ]
  },
  {
   "cell_type": "markdown",
   "id": "5fb1970f",
   "metadata": {},
   "source": [
    "\n",
    "### 2.2 Compiling the code: the Makefile\n",
    "\n",
    "The first directory you are interested in is the bin/ directory, in which the code will be compiled thanks to the set of instructions written in the `Makefile`.\n"
   ]
  },
  {
   "cell_type": "code",
   "execution_count": null,
   "id": "a2512e07",
   "metadata": {
    "vscode": {
     "languageId": "shellscript"
    }
   },
   "outputs": [],
   "source": [
    "%%bash\n",
    "cd ramses/bin\n",
    "cat Makefile"
   ]
  },
  {
   "cell_type": "markdown",
   "id": "8c910f75",
   "metadata": {},
   "source": [
    "\n",
    "\n",
    "The first lines of the Makefile correspond to the so-called *Compilation Time Parameters*. They are used to e.g.:\n",
    "\n",
    "- set the type of compiler to be used, the name of the RAMSES executable\n",
    "\n",
    "- define the number of dimensions and the total number of variables needed for the simulation\n",
    "\n",
    "- enable or disable the compilation of some of the physical modules, and of the MPI routines \n",
    "\n",
    "Other preprocessor directives are then defined below, in the variable `DEFINES`.\n",
    "\n",
    "Based on the choice of compiler (`COMPILER=GNU` or `INTEL`), Fortran compiler options and directives are defined. The `F90` variable invokes the Fortran compiler (also depends on the use of MPI), while `FFLAGS` contains other compilation flags and preprocessor directives (also depends on the use of debug options). While both `F90` and `FFLAGS` can be set up using default values, one might need or want to edit them according to the compiler, the machine, or the simulation. In this case, you can manually edit `F90` and `FFLAGS` in the Makefile.\n",
    "\n",
    "Finally, the rest of the Makefile contains the list and path of the files to be compiled.\n",
    "\n",
    "Once the Makefile is ready, you can (re)compile the code:\n"
   ]
  },
  {
   "cell_type": "code",
   "execution_count": null,
   "id": "8f74ae0c",
   "metadata": {
    "vscode": {
     "languageId": "shellscript"
    }
   },
   "outputs": [],
   "source": [
    "%%bash\n",
    "cd ramses/bin\n",
    "make clean\n",
    "make"
   ]
  },
  {
   "cell_type": "markdown",
   "id": "96afaf8f",
   "metadata": {},
   "source": [
    "\n",
    "### 2.3 Setting up the parameters: the namelist\n",
    "\n",
    "To run a simulation, RAMSES needs a parameter file, which is a *Fortran namelist* ([brief intro here](http://jules-lsm.github.io/vn4.2/namelists/intro.html), and more details about the [RAMSES namelist here](https://ramses-organisation.readthedocs.io/en/latest/wiki/Runtime_Parameters.html)). Namelists can be read and written as text files, usually ending with `.nml`. They are used to assign values to RAMSES variables, to be used instead of the default values initialised in the code.\n",
    "\n",
    "Namelist files are organised in namelist blocks, or sections (that may be provided in any order) that define parameters related to different parts of the code. Each block starts with `&BLOCK_NAME` and ends with the character `/`. Values are then declared in the corresponding block using standard Fortran namelist syntax, i.e. as `parameter_name = value` (where values for character variables must be enclosed in quotes, and logical values must be specified using `.true.` or `.false.`). The following 4 parameter blocks are mandatory and must always be present in the namelist file:\n",
    "\n",
    "\n",
    "1. `RUN_PARAMS`: defines some of the most basic properties of the run\n",
    "\n",
    "2. `AMR_PARAMS`: defines the global mesh properties and memory footprint of the code\n",
    "\n",
    "3. `INIT_PARAMS`: tells RAMSES where to look for initial condition files\n",
    "\n",
    "4. `OUTPUT_PARAMS`: defines the output strategy\n",
    "\n",
    "The other blocks are optional. They must be present in the file only if they are relevant to the current run:\n",
    "\n",
    "\n",
    "5. `POISSON_PARAMS`: specifies runtime parameters for the Poisson solver\n",
    "\n",
    "6. `BOUNDARY_PARAMS`: sets up boundary conditions for the current simulation\n",
    "\n",
    "7. `UNIT_PARAMS`: contains the parameters related to units that are set “by hand” for non cosmological runs\n",
    "\n",
    "8. `COOLING_PARAMS`: contains parameters related to cooling / basic chemistry\n",
    "\n",
    "9. `SF_PARAMS`: contains the parameters related to star formation\n",
    "\n",
    "10. `FEEDBACK_PARAMS`: contains the parameters related to stellar feedback\n",
    "\n",
    "11. `HYDRO_PARAMS`: specifies runtime parameters for the Godunov solver\n",
    "\n",
    "12. `REFINE_PARAMS`: defines the refinement strategy\n",
    "\n",
    "13. `SINK_PARAMS`: contains the parameters related to the sink particle implementation, for star formation or black holes\n",
    "\n",
    "14. `CLUMPFIND_PARAMS`: contains the parameters related to the built-in RAMSES clump finder (PHEW)\n",
    "\n",
    "15. `RT_PARAMS` and `RT_GROUPS`: sets radiative properties for RAMSES RHD runs\n",
    "\n",
    "16. `MOVIE_PARAMS`: contains the parameters related to the movies, for creating on the fly visualizations of a simulation\n",
    "\n",
    "The variables you can set or adjust in each namelist block are described in more details in the the [RAMSES namelist documentation](https://ramses-organisation.readthedocs.io/en/latest/wiki/Runtime_Parameters.html) and in the different tutorials."
   ]
  },
  {
   "cell_type": "markdown",
   "id": "4f74196a",
   "metadata": {},
   "source": [
    "## 3. Barotrop test"
   ]
  },
  {
   "cell_type": "markdown",
   "id": "51abb4a5-ad00-4d31-8930-43fadcdc5740",
   "metadata": {},
   "source": [
    "This 1-dimensional RAMSES test of a gas gravitational collapse is part of the automated RAMSES test suite. First compile a 1d RAMSES executable:\n"
   ]
  },
  {
   "cell_type": "code",
   "execution_count": null,
   "id": "d0a55c2f",
   "metadata": {
    "vscode": {
     "languageId": "shellscript"
    }
   },
   "outputs": [],
   "source": [
    "%%bash\n",
    "cd ramses/bin\n",
    "make clean\n",
    "make NDIM=1 PATCH= SOLVER=hydro EXEC=ramses_barotrop"
   ]
  },
  {
   "cell_type": "markdown",
   "id": "8619c97d",
   "metadata": {},
   "source": [
    "\n",
    "Then run the test, using the bartrop.nml namelist:\n"
   ]
  },
  {
   "cell_type": "code",
   "execution_count": null,
   "id": "2960b5c1",
   "metadata": {
    "vscode": {
     "languageId": "shellscript"
    }
   },
   "outputs": [],
   "source": [
    "%%bash\n",
    "cd barotrop\n",
    "../ramses/bin/ramses_barotrop1d barotrop.nml"
   ]
  },
  {
   "cell_type": "markdown",
   "id": "92402c3c",
   "metadata": {},
   "source": [
    "\n",
    "You should see RAMSES start and spit out a log of its progress in the terminal. Once it is finished (this should be less than a second), you'll see two output directories, named output_00001 and output_00002.\n",
    "\n",
    "After the run is done, you can use the cell below to plot the final result and compare to an analytic solution for the temperature versus density."
   ]
  },
  {
   "cell_type": "code",
   "execution_count": null,
   "id": "fdca2e53-1dc8-4cad-a9bb-dfca1394566b",
   "metadata": {},
   "outputs": [],
   "source": [
    "import osyris\n",
    "import numpy as np\n",
    "import matplotlib.pyplot as plt\n",
    "\n",
    "# Fundamental constants\n",
    "MH = 1.6737236e-24 #g                      # hydrogen mass\n",
    "KB = 1.38064852e-16 #cm^2 g s^-2 K^-1      # Boltzman constant\n",
    "PC = 3.0857e18 #cm                         # 1 parsec\n",
    "AU = 1.49597871e13 #cm                     # 1 astronomical unit\n",
    "\n",
    "# Load RAMSES output\n",
    "data = osyris.Dataset(2, path=\"./barotrop/\")\n",
    "data.load()\n",
    "\n",
    "center = osyris.Array(values=[3.0857e18/2.], unit='cm')\n",
    "\n",
    "x      = (data[\"amr\"][\"position_x\"]-center).to(\"au\").values\n",
    "rho    = data[\"hydro\"][\"density\"].values\n",
    "p      = data[\"hydro\"][\"pressure\"].values\n",
    "\n",
    "\n",
    "# We can also plot directly with Osyris, but here we use our own plots for more flexibility\n",
    "fig, ax = plt.subplots(nrows=1, ncols=3, figsize=(12, 4), constrained_layout=True)\n",
    "\n",
    "ax[0].plot(x,rho,'o',color='black',markerfacecolor='none')\n",
    "ax[0].set_xlabel('Distance (AU)')\n",
    "ax[0].set_ylabel('Density (g/cm3)')\n",
    "ax[0].set_xscale('symlog', linthresh=1.*PC/AU/2**16)\n",
    "ax[0].set_yscale('log')\n",
    "\n",
    "ax[1].plot(rho,p,'o',color='black',markerfacecolor='none')\n",
    "ax[1].set_xlabel('Density (g/cm3)')\n",
    "ax[1].set_ylabel('Pressure (g/cm/s2)')\n",
    "ax[1].set_xscale('log')\n",
    "ax[1].set_yscale('log')\n",
    "\n",
    "cs = np.sqrt(p/rho)\n",
    "cs2 = p/rho\n",
    "T = cs2 * 2.37 * MH /KB\n",
    "\n",
    "#analytical solution\n",
    "rho_ana = np.logspace(-18,-12,50)\n",
    "b3 = 10 * (1 + (rho_ana/1e-15)**(1.666667-1))\n",
    "\n",
    "ax[2].plot(rho,T,'o',color='black',markerfacecolor='none')\n",
    "ax[2].plot(rho_ana, b3, color='red')\n",
    "\n",
    "ax[2].set_xlabel('Density (g/cm3)')\n",
    "ax[2].set_ylabel('Temperature (K)')\n",
    "ax[2].set_xscale('log')\n",
    "ax[2].set_yscale('log')\n",
    "ax[2].set_ylim(1,max(T)*10)"
   ]
  },
  {
   "cell_type": "markdown",
   "id": "2b106bb0-d17e-4fe2-b83a-d3688de50879",
   "metadata": {},
   "source": [
    "## 4. A Sedov-Taylor blast in 3D"
   ]
  },
  {
   "cell_type": "markdown",
   "id": "a778337d-6dd3-443b-81fb-cf72d04f1ee5",
   "metadata": {},
   "source": [
    "We now turn to 3d experiments, starting with a very simple setup of a thermal blast in a homogeneous medium.\n",
    "First compile a 3d version of the code, using MPI:\n"
   ]
  },
  {
   "cell_type": "code",
   "execution_count": null,
   "id": "32bd5570",
   "metadata": {
    "vscode": {
     "languageId": "shellscript"
    }
   },
   "outputs": [],
   "source": [
    "%%bash\n",
    "cd ramses/bin\n",
    "make clean\n",
    "make NDIM=3 PATCH= SOLVER=hydro MPI=1 EXEC=ramses_sedov"
   ]
  },
  {
   "cell_type": "markdown",
   "id": "43c0b53f",
   "metadata": {},
   "source": [
    "Then run the test on four cores, using the sedov3d.nml namelist:\n"
   ]
  },
  {
   "cell_type": "code",
   "execution_count": null,
   "id": "a8f8b16a",
   "metadata": {
    "vscode": {
     "languageId": "shellscript"
    }
   },
   "outputs": [],
   "source": [
    "%%bash\n",
    "cd sedov\n",
    "mpirun -n 4 ../ramses/bin/ramses_sedov3d sedov3d.nml"
   ]
  },
  {
   "cell_type": "markdown",
   "id": "f200e842",
   "metadata": {},
   "source": [
    "\n",
    "After the run is done, or even while it is running, you can use the cell below to plot the final result and compare to an analytic solution for the temperature versus density. \n",
    "\n",
    "For this experiment setup, i.e. an initially homogeneous environment and no radiative cooling, an analytic solution exists for the evolution of the blast profile. The cell just below computes this analytic profile and needs to be run only once to compare to the RAMSES run."
   ]
  },
  {
   "cell_type": "code",
   "execution_count": null,
   "id": "3158bc6c-a340-4bfa-949f-7d06f803b095",
   "metadata": {},
   "outputs": [],
   "source": [
    "# This cell contains a routine to plot analytic Sedov profiles in N dimensions. \n",
    "# Just run the cell to compile it and then go to the cell below to use the routine.\n",
    "\n",
    "##########################################################################\n",
    "#       The routine returns 4 arrays of unknown size (determined\n",
    "#       automatically by the routine). The output variables are\n",
    "#       the following dimensionless quantities: r (position from the\n",
    "#       point like explosion, d (density), u (velocity) and p\n",
    "#       (pressure). To recover the true value, you have to rescale\n",
    "#       these dimensionless values to the true values, defining first\n",
    "#       the total energy E_0, the initial mass density rho_0 and the\n",
    "#       time t you consider and finally computing the true values\n",
    "#       using  the following scaling laws:\n",
    "#\n",
    "#       r = r * (E_0/rho_0)^(1./(dim+2.)) * t^(2./(dim+2.))\n",
    "#       d = d * rho_0\n",
    "#       u = u * (E_0/rho_0)^(1./(dim+2.)) * t^(-dim/(dim+2.))\n",
    "#       p = p * (E_0/rho_0)^(2./(dim+2.)) * t^(-2.*dim/(dim+2.)) * rho_0\n",
    "#\n",
    "# This routine is adapted from an IDL routine by R Teyssier\n",
    "def sedovana(gamma=1.4,dim=1):\n",
    "    import numpy as np\n",
    "    #---------------------------------------------------------------------\n",
    "    n = int(dim)\n",
    "    print('gamma=',gamma)\n",
    "    g=float(gamma)\n",
    "    n=float(n)\n",
    "    n1=1000 ; n2=1000\n",
    "    vmax=4.e0/(n+2.)/(g+1.)\n",
    "    vmin=2.e0/(n+2.)/g\n",
    "    temp = np.linspace(0,n1-1,n1)\n",
    "    v=vmin+10.e0**(-10.e0*(1.0e0-(temp+1)/float(n1)))*(vmax-vmin)\n",
    "    a2 = (1.-g)/(2.*(g-1.)+n)\n",
    "    a1 = (n+2.)*g/(2.+n*(g-1.)) * ( 2.*n*(2.-g)/g/(n+2.)**2 - a2 )\n",
    "    a3 = n/(2.*(g-1)+n)\n",
    "    a4 = a1*(n+2.)/(2.-g)\n",
    "    a5 = 2./(g-2.)\n",
    "    a6 = g/(2.*(g-1.)+n)\n",
    "    a7 = a1*(2.+n*(g-1.))/(n*(2.-g))\n",
    "\n",
    "    r1 = ((n+2.)*(g+1.)/4.*v)**(-2./(2.+n)) \\\n",
    "          *((g+1.)/(g-1.) *( (n+2.)*g/2.*v-1.) )**(-a2) \\\n",
    "          *( (n+2.)*(g+1.) / ( (n+2)*(g+1)-2.*(2.+n*(g-1.)) ) * (1.-(2.+n*(g-1.))/2.*v) )**(-a1)      \n",
    "    u1 = (n+2.)*(g+1.)/4.*v*r1\n",
    "    d1 = ((g+1.)/(g-1.)*((n+2.)*g/2.*v-1.))**(a3)   \\\n",
    "         *((g+1.)/(g-1.)*(1.-(n+2.)/2.*v  ))**(a5)  \\\n",
    "         *((n+2.)*(g+1.)/( (n+2)*(g+1)-2.*(2.+n*(g-1.))) *(1.-(2.+n*(g-1.))/2.*v) )**(a4)\n",
    "    p1 = ((n+2.)*(g+1.)/4.*v)**(2.*n/(2.+n))        \\\n",
    "      *((g+1.)/(g-1.)*(1.-(n+2.)/2.*v  ))**(a5+1.)  \\\n",
    "      *((n+2.)*(g+1.)/( (n+2)*(g+1)-2.*(2.+n*(g-1.))) *(1.-(2.+n*(g-1.))/2.*v) )**(a4-2.*a1)\n",
    "\n",
    "    temp=np.linspace(0,n2-1,n2)\n",
    "    r2=r1[0]*(temp+0.5e0)/float(n2)\n",
    "    u2=u1[0]*r2/r1[0]\n",
    "    d2=d1[0]*(r2/r1[0])**(n/(g-1.0e0))\n",
    "    p2=p1[0]*(r2/r2)\n",
    "    r=np.zeros(len(r1)+len(r2)+2)\n",
    "    r[0:len(r2)]=r2\n",
    "    r[len(r2):len(r1)+len(r2)]=r1\n",
    "    r[len(r1)+len(r2)]=r1.max()\n",
    "    r[len(r1)+len(r2)+1]=r1.max()+1000.\n",
    "    d=np.zeros(len(r))\n",
    "    d[:]=r[:]\n",
    "    d[0:len(r2)]=d2\n",
    "    d[len(r2):len(r1)+len(r2)]=d1\n",
    "    d[len(r1)+len(r2)]=1./((g+1.)/(g-1.))\n",
    "    d[len(r1)+len(r2)+1]=1./((g+1.)/(g-1.))\n",
    "    u=np.zeros(len(r))\n",
    "    u[:]=r[:]\n",
    "    u[0:len(r2)]=u2\n",
    "    u[len(r2):len(r1)+len(r2)]=u1\n",
    "    u[len(r1)+len(r2)]=0.\n",
    "    u[len(r1)+len(r2)+1]=0.\n",
    "    p=np.zeros(len(r))\n",
    "    p[:]=r[:]\n",
    "    p[0:len(r2)]=p2\n",
    "    p[len(r2):len(r1)+len(r2)]=p1\n",
    "    p[len(r1)+len(r2)]=0.\n",
    "    p[len(r1)+len(r2)+1]=0.\n",
    "\n",
    "    d=d*(g+1.)/(g-1.)\n",
    "    u=u*4./(n+2.)/(g+1.)\n",
    "    p=p*8./(n+2.)**2./(g+1.)\n",
    "\n",
    "    nn=len(r)\n",
    "    vol=np.zeros(nn)\n",
    "    vol[:]=r[:]\n",
    "    for i in range(1,nn):\n",
    "        vol[i]=r[i]**n-r[i-1]**n\n",
    "    vol[0]=r[0]**n\n",
    "    const=1.\n",
    "    if n == 1.: const=2.0e0\n",
    "    if n == 2.: const=3.1415926535897931\n",
    "    if n == 3.: const=4.*3.1415926535897931/3.\n",
    "\n",
    "    vol=vol*const\n",
    "    int1=(d*u*u/2.e0)*vol\n",
    "    int2=p/(g-1.e0)*vol\n",
    "    sum1=sum(int1)\n",
    "    sum2=sum(int2)\n",
    "    summ=sum1+sum2\n",
    "    print('chi0=',summ**(-1./(2.+n)))\n",
    "    chi0=summ**(-1./(2.+n))\n",
    "    r=r*chi0\n",
    "    u=u*chi0\n",
    "    p=p*chi0**2\n",
    "\n",
    "    return r,d,u,p\n"
   ]
  },
  {
   "cell_type": "markdown",
   "id": "b1f81f8b-2d29-4c9a-b6da-7f4a9d11c6d8",
   "metadata": {},
   "source": [
    "Now make a map of the simulated Sedov explosion, using the Osyris package:"
   ]
  },
  {
   "cell_type": "code",
   "execution_count": null,
   "id": "c89c4d18-cba7-46b8-9705-fff8b97c0b82",
   "metadata": {},
   "outputs": [],
   "source": [
    "import osyris\n",
    "import matplotlib.pyplot as plt\n",
    "import numpy as np\n",
    "\n",
    "snap=10 # You can change this!\n",
    "mydata = osyris.Dataset(snap, path=\"./sedov/\").load()\n",
    "print(mydata)\n",
    "kpc = osyris.units(\"kpc\")\n",
    "center=osyris.Vector(0.5,y=0.5,z=0.5,unit=kpc)\n",
    "# Map of density and refinement level\n",
    "osyris.map({\"data\": mydata[\"hydro\"][\"density\"], \"cmap\":\"RdGy_r\", \"norm\":\"log\"}\n",
    "           ,dx=1*kpc,origin=center)\n",
    "time_myr = mydata.meta[\"time\"].to(\"Myr\").magnitude\n",
    "time_sec = mydata.meta[\"time\"].to(\"sec\").magnitude\n",
    "plt.annotate('%.2f Myr'%(time_myr), xy=(0.15, 0.8),xycoords='figure fraction')\n",
    "\n",
    "egy_tot = np.sum(mydata['hydro']['pressure']*mydata['amr']['dx']**3)/0.4\n",
    "print('The total energy is %.3e %s'%(egy_tot.values, egy_tot.label))\n",
    "\n",
    "# Map of refinement level\n",
    "osyris.map({\"data\": mydata[\"amr\"][\"level\"], \"cmap\":\"viridis\"}\n",
    "           ,dx=1*kpc,origin=center)"
   ]
  },
  {
   "cell_type": "code",
   "execution_count": null,
   "id": "399df6a8-61d7-4578-8682-bd8f26209fb9",
   "metadata": {},
   "outputs": [],
   "source": [
    "# Compute analytic profile corresponding to the simulation time, time_sec\n",
    "import matplotlib.pyplot as plt\n",
    "dim=3.\n",
    "r,d,u,p=sedovana(dim=dim)\n",
    "n = len(r)\n",
    "r=r[0:n-1]\n",
    "d=d[0:n-1]\n",
    "u=u[0:n-1]\n",
    "p=p[0:n-1]\n",
    "E_0=1e51\n",
    "rho_0 = 0.1 * 1.66e-24\n",
    "r_cgs = r * (E_0/rho_0)**(1./(dim+2.)) * time_sec**(2./(dim+2.))\n",
    "d_cgs = d * rho_0\n",
    "u_cgs = u * (E_0/rho_0)**(1./(dim+2.)) * time_sec**(-dim/(dim+2.))\n",
    "p_cgs = p * (E_0/rho_0)**(2./(dim+2.)) * time_sec**(-2.*dim/(dim+2.)) * rho_0\n",
    "plt.figure()\n",
    "plt.yscale('log')\n",
    "plt.xlabel(r'${\\rm r \\ [kpc]}$')\n",
    "plt.ylabel(r'${\\rho \\ [g \\ cm^{-3}]}$')\n",
    "plt.plot(r_cgs/3.08e21,d_cgs)\n",
    "plt.show() "
   ]
  },
  {
   "cell_type": "code",
   "execution_count": null,
   "id": "c1326bda-5d38-4bb6-9e83-2f36b3ecd657",
   "metadata": {},
   "outputs": [],
   "source": [
    "# Compare analytic and simulation profiles\n",
    "import matplotlib.pyplot as plt\n",
    "plt.figure()\n",
    "plt.yscale('log')\n",
    "plt.xlabel(r'${\\rm r \\ [kpc]}$')\n",
    "plt.ylabel(r'${\\rho \\ [g \\ cm^{-3}]}$')\n",
    "plt.ylim(1e-30,3e-24)\n",
    "\n",
    "plt.plot(r_cgs/3.08e21,d_cgs, color='blue', label='Analytic profile')\n",
    "\n",
    "rad = (mydata[\"amr\"][\"position\"] - center).to(\"kpc\").norm.values\n",
    "plt.scatter(rad, mydata['hydro']['density'].values,s=0.1, color='red', label='Simulation cells')\n",
    "\n",
    "plt.legend()\n",
    "plt.show()"
   ]
  },
  {
   "cell_type": "markdown",
   "id": "0657e010-0511-46e7-a074-b21f6a2b31f2",
   "metadata": {},
   "source": [
    "You can now try to change the two cells above to compare the simulated pressure and velocity to the analytic solution (instead of density).\n",
    "\n",
    "Generally, the comparison you should see is OK in terms of the position of the expanding shock blast, but the simulated profile does not really fit the analytic solution perfectly. What do you think are the reasons for that and what could be done in the simulation to improve\n",
    "the comparison?\n",
    "\n",
    "### 4.1 Diverging from the analytic solution\n",
    "\n",
    "In reality, even the position of the blast in the Sedov-Taylor solution is not a very accurate description of the late evolution of SN blasts. In part this is because the environment is usually far from being homogeneous, but perhaps more importantly there is the effect of radiative cooling.\n",
    "\n",
    "Try to run a new Sedov-Taylor blast experiment where you turn on radiative cooling in the namelist. What happens to your blast and how does it now compare to the analytic solution?\n",
    "\n",
    "You can then try to change to Solar metallicity by setting `z_ave = 1` in the namelist, i.e. assume a Solar metallicity for all gas. What happens now and why?"
   ]
  },
  {
   "cell_type": "markdown",
   "id": "adcb8e51-d9f3-44de-a4b3-99fda2d6a365",
   "metadata": {},
   "source": [
    "### 4.2 Code units (optional)\n",
    "\n",
    "This exercise is for understanding how to convert between the RAMSES code units and physical units. The exercise is optional but probably very useful, since if you go on to seriously use RAMSES, you’ll find that a large part of your time, frustration, and confusion will be due\n",
    "to unit conversions.\n",
    "\n",
    "To convert from energy, $E = 10^{51}$ ergs, to the `p_region` value in the namelist for the Sedov blast, you need first to keep in mind the equation of state, i.e.\n",
    "$$ p = e (\\gamma - 1), $$\n",
    "where $e$ is energy density, $p$ is pressure, and $\\gamma= 1.4$ is the ratio of specific heats, also given in the namelist. You also need to convert the energy to code units. In RAMSES this is achieved with the three base units, which are also given in the namelist. Each of these converts a RAMSES variable, in code units, to cgs units. In other words, you multiply a density given by RAMSES, with `units_density` to convert to $\\rm{ g /cm^3}$, you multiply a length in RAMSES with `units_length` to convert to $\\rm cm$ and a time with `units_time` to convert to seconds. For example, you can find that the box length of 1 given in code units in the namelist corresponds to 1 kpc and that the initial homogeneous density given by `d_region` corresponds to $1.66 \\times 10^{−25} \\ {\\rm g / cm^3}$. Any unit conversion can be derived from these three basic units. For example, speed is converted from code units to $\\rm cm/s$ with\n",
    "$$ \\rm units\\_v = units\\_length \\times units\\_time $$\n",
    "\n",
    "I now leave it to you to see if you can derive how the value of ${\\rm p\\_region}= 8.6 \\times 10^{−7}$ in the Sedov namelist corresponds to $10^{51}$ ergs."
   ]
  },
  {
   "cell_type": "markdown",
   "id": "4c44ced1-f419-4daf-ba0d-8228c4d692e7",
   "metadata": {},
   "source": [
    "You can now play with the Sedov blast run if you like, e.g. change the resolution, refinement strategy, or the hydro solver. You can also experiment with running the same experiment in 1d or 2d (for which you can also compare to analytic solutions)."
   ]
  },
  {
   "cell_type": "markdown",
   "id": "b2ceac47-c298-43e2-9745-934102eb70cb",
   "metadata": {},
   "source": [
    "## 5. A Strömgren _circle_ in 2D\n",
    "\n",
    "Now we go for a bit of radiative transfer (RT) and radiation hydrodynamics (RHD), using the M1 RT method in RAMSES-RT. \n",
    "\n",
    "The Strömgren sphere is one of the few radiative transfer tests which has a simple analytic result to compare to. In two dimensions, in the limit of a constant radiation source emitting $\\dot N$ photons per second into a stationary and homogeneous pure hydrogen gas with number density $\\rm n_H$, a so-called Strömgren circle (sphere in 3d) of ionised hydrogen (HII) forms, initially expands, and eventually settles at the Strömgren radius, $r_S$, where the rate of recombinations inside the circle equals the source luminosity, i.e.\n",
    "$$\n",
    "\\dot N = \\pi r_{\\rm S}^2 n_{\\rm H}^2 \\alpha^{\\rm B}\n",
    "$$\n",
    "where $\\alpha^{\\rm B}$ is the case-B recombination rate of the gas. Solving for the 2d Strömgren radius, we get\n",
    "$$\n",
    "r_{\\rm S} = \\sqrt{\\frac{\\dot N}{\\pi n_{\\rm H}^2 \\alpha^{\\rm B}}}.\n",
    "$$\n",
    "\n",
    "The propagation of the ionization front (I-front) with time t can easily be derived to have the form\n",
    "$$\n",
    "r_{\\rm I}(t) = r_{\\rm S} \\sqrt{1-e^{-t/t_{\\rm rec}}},\n",
    "$$\n",
    "where $t_{\\rm rec} = \\left( n_{\\rm H} \\alpha^{\\rm B} \\right)^{−1}$ is the recombination time of the gas. \n",
    "(Pawlik & Schaye 2008,  showed that the analytic expression above for $r_{\\rm S}$ is actually too small by 5%, due to the approximation of a step function in the ionised fraction at the Strömgren radius.)\n",
    "\n",
    "### 5.1 Compare to the analytic Strömgren radius, with a reduced light speed\n",
    "First, compile RAMSES-RT:\n"
   ]
  },
  {
   "cell_type": "code",
   "execution_count": null,
   "id": "f360c3c7",
   "metadata": {
    "vscode": {
     "languageId": "shellscript"
    }
   },
   "outputs": [],
   "source": [
    "%%bash\n",
    "cd ramses/bin\n",
    "make clean\n",
    "make NDIM=2 SOLVER=hydro RT=1 NGROUPS=1 NIONS=3 MPI=1 EXEC=ramses_rhd"
   ]
  },
  {
   "cell_type": "markdown",
   "id": "2d37e03c",
   "metadata": {},
   "source": [
    "\n",
    "Then run the Strömgren circle experiment:\n"
   ]
  },
  {
   "cell_type": "code",
   "execution_count": null,
   "id": "2ab53327",
   "metadata": {
    "vscode": {
     "languageId": "shellscript"
    }
   },
   "outputs": [],
   "source": [
    "%%bash\n",
    "cd stromgren\n",
    "mpirun -np 4 ../ramses/bin/ramses_rhd2d stromgren2d.nml"
   ]
  },
  {
   "cell_type": "markdown",
   "id": "3971d520",
   "metadata": {},
   "source": [
    "\n",
    "The namelist (stromgren2d.nml) sets up an isotropic source of radiation, with a luminosity of $\\dot N = 2 \\times 10^{28}$\n",
    "ionizing photons per second, in the corner of a 1 kpc wide cubic box. The homogeneous gas density is set to $n_{\\rm H} = 10^{−1} \\ {\\rm cm}^{−2}$. In the namelist, the `rt_TConst=1d4` parameter forces the temperature everywhere to $10^4$ K, which sets a constant recombination rate $\\alpha^{\\rm B} = 2.6 \\times 10^{-13} \\ \\rm s^{−1} \\rm cm^{2}$. From the equation above, we then get $r_{\\rm S} = 0.51$ kpc, the recombination time is $t_{\\rm rec} = 1.2$ Myr, and the Strömgren circle crossing time is $t_{\\rm cross} ≡ r_{\\rm S}/c = 1650$ years.\n",
    "\n",
    "Now use the cell below to plot the results and compare the ionization front (or I-front) to the analytic expressions for $r_{\\rm S}$ and $r_{\\rm I}$, shown in red and yellow quarter-circles respectively. The I-front should converge towards the red circle and should do so following the time-evolution of the yellow quarter-circle."
   ]
  },
  {
   "cell_type": "code",
   "execution_count": null,
   "id": "4d22585c-3ecc-44ef-8873-6b487b06141f",
   "metadata": {},
   "outputs": [],
   "source": [
    "import osyris\n",
    "import numpy as np\n",
    "import matplotlib.pyplot as plt\n",
    "import math\n",
    "from ipywidgets import interactive\n",
    "kb = 1.3807e-16 # Boltzmann constant in cgs\n",
    "mp = 1.6749e-24 # Proton mass in grams\n",
    "\n",
    "def show_stromgren_maps(snapshot=1):\n",
    "    fig, ax = plt.subplots(nrows=2, ncols=2, figsize=(9, 7), constrained_layout=False)\n",
    "    mydata = osyris.Dataset(snapshot, path=\"./stromgren\").load()\n",
    "    kpc = osyris.units(\"kpc\")\n",
    "    center=osyris.Vector(0.5,y=0.5,unit=kpc)\n",
    "\n",
    "    # Map of gas density\n",
    "    osyris.map(mydata[\"hydro\"][\"density\"], cmap=\"viridis\", norm=\"log\", vmin=1e-2, vmax=1e0\n",
    "           ,dx=1*kpc,origin=center,ax=ax[0][0])\n",
    "    # Map of hydrogen ionization fraction\n",
    "    mydata[\"hydro\"][\"scalar_00\"].name = r'${\\rm x_{HII}}$'\n",
    "    osyris.map(mydata[\"hydro\"][\"scalar_00\"], cmap=\"summer\", norm=\"log\", vmin=1e-4, vmax=1e0\n",
    "           ,dx=1*kpc,origin=center,ax=ax[1][0])\n",
    "    # Map of temperature\n",
    "    mydata[\"hydro\"][\"T\"] = mydata[\"hydro\"][\"pressure\"]/mydata[\"hydro\"][\"density\"] * mp/kb # Create new var for temperature\n",
    "    mydata[\"hydro\"][\"T\"].name = r'${\\rm T/\\mu \\ [K]}$'\n",
    "    mydata[\"hydro\"][\"T\"].unit = ''\n",
    "    osyris.map(mydata[\"hydro\"][\"T\"], cmap=\"coolwarm\", norm=\"log\", vmin=3e3, vmax=3e5\n",
    "           ,dx=1*kpc,origin=center,ax=ax[0][1])\n",
    "    # Map of photon flux\n",
    "    mydata[\"rt\"][\"photon_flux_01\"] = mydata[\"rt\"][\"photon_flux_01\"]*mydata.meta[\"unit_l\"]/mydata.meta[\"unit_t\"]\n",
    "    mydata[\"rt\"][\"photon_flux_01\"].name = r'${\\rm cN_{\\gamma} \\ [cm^{-1} \\ s^{-1}]}$'\n",
    "    osyris.map(mydata[\"rt\"][\"photon_flux_01\"], cmap=\"bone\", norm=\"log\", vmin=1e5, vmax=1e8\n",
    "           ,dx=1*kpc,origin=center,ax=ax[1][1])\n",
    "\n",
    "    time_myr = mydata.meta[\"time\"].to(\"Myr\").magnitude\n",
    "    plt.annotate('%.2f Myr'%(time_myr), xy=(0.1, 0.8),xycoords='figure fraction',color=\"grey\")\n",
    "\n",
    "    show_stromgren_radius=True\n",
    "    if show_stromgren_radius:\n",
    "        Ndot = 2e28                        # Photon injection rate in #/s\n",
    "        nH = 1e-1                          # Initial gas density in #/cm3\n",
    "        rec_rate = 2.6e-13                 # Case B rec. rate for T~10^4 K\n",
    "        myr2s =  60.*60.*24.*365.*1e6      #      Myr to second conversion\n",
    "        r_S_cm = math.sqrt(Ndot/np.pi/nH**2/rec_rate) #     in Centimeters\n",
    "        r_S = r_S_cm / 3.08e21                     #                in kpc\n",
    "        r_S = r_S * 1.05                   # Pawlik&Schaye 2008 correction\n",
    "        t_rec_s = 1./nH/rec_rate                   #     recomb. time in s\n",
    "        t_rec = t_rec_s/myr2s                      #               --> Myr\n",
    "        c_cgs = 3e10                               #     Light speed (cgs)\n",
    "\n",
    "        crs1=plt.Circle((-0.5,-0.5),radius=r_S,color='r',alpha=0.5,fill=False,linewidth=3)\n",
    "        ax[1][0].add_patch(crs1) # Stromgren (final) radius\n",
    "        r_I = r_S*(1.-math.exp(-time_myr/t_rec))**0.5\n",
    "        cri1=plt.Circle((-0.5,-0.5),radius=r_I,color='y',alpha=0.5,fill=False,linewidth=3)\n",
    "        ax[1][0].add_patch(cri1) # Predicted current radius\n",
    "\n",
    "interactive_plot = interactive(show_stromgren_maps, snapshot=(1, 40))\n",
    "output = interactive_plot.children[-1]\n",
    "output.layout.height = '700px'\n",
    "interactive_plot\n",
    "# In the lower left map below, the red circle shows the final Stromgren radius\n",
    "# and the yellow circle shows the expected radius at the time corresponding to the snapshot"
   ]
  },
  {
   "cell_type": "markdown",
   "id": "6d9ea976-0a69-45ae-a9a3-3d8728c3245a",
   "metadata": {},
   "source": [
    "In the setup given to you, the light speed has been reduced to one-thousandth of the actual light speed (with the namelist parameter `rt_c_fraction=0.001`). This is good for performance – the lower the light speed the larger the timestep and the faster the simulation – but as you can see in the output, it is not very good for accuracy, as the actual front is lagging well behind the analytic result shown with the yellow circle.\n",
    "\n",
    "In the RAMSES-RT code paper (Rosdahl et al., 2013), we derive a framework for setting a minimum value for the reduced light speed, while still retaining accuracy. The light speed fraction should be set to $min\\left(1;∼ 10 \\times t_{\\rm cross}/\\tau_{\\rm sim}\\right)$ where $\\tau_{\\rm sim}$ is some simulation timescale within which we want to get an accurate I-front position. Use this expression to set a new (higher) value for the reduced light speed. Then verify that the I-front is accurately simulated within the timescale you choose (by comparing to the yellow expanding circle).\n",
    "\n",
    "### 5.2 Turn on the photoionization heating of the gas\n",
    "\n",
    "Now turn off the constant $T = 10^4$ K (comment out `rt_TConst=1d4` in the namelist), thus allowing the gas to cool or be heated by the photons. What changes in the evolution of the I-front, and why? (If you need a hint, look into appendix C, figure C.1 _[of the thesis of J Rosdahl](https://jokirosdahl.files.wordpress.com/2015/12/rosdahl_thesis.pdf)_.) \n",
    "\n",
    "### 5.3 Turn on the hydrodynamic response of the gas\n",
    "Now let’s make it more interesting: ‘unfreeze’ the gas (`static=.false.`) and allow it to react to the photoionization heating. Look at the I-front expansion in this new run. What happens, and why?\n",
    "\n",
    "### 5.4 Play with RHD parameters\n",
    "It is interesting to play with some parameters and consider the effects they have. You’re free to play with whatever parameters you like, but some ideas are:\n",
    "\n",
    "#### Photon properties\n",
    "Change the photoionization cross section and photon energy. The current values are averages for a $T = 10^5$ K blackbody radiation. Increasing the energy and decreasing the cross sections corresponds to hotter stellar atmospheres, i.e. bigger stars. What does the cross section do to the I-front? What about the photon energy?\n",
    "\n",
    "#### Adaptive mesh refinement\n",
    "Turn on AMR refinement. Refine on e.g. mass, and gradients in density or ionization fractions. Can you get RAMSES-RT to focus the resolution on the I-front, but leave other regions coarsely resolved?\n",
    "\n",
    "#### Spectral resolution\n",
    "Try out three photon groups. This allows you to approximate some spectral resolution compared to the single photon group (Grey approximation) we’ve been working with. For the photon group properties (in the RAMSES-RT namelist), try a $T = 10^5$ K blackbody\n",
    "spectrum:\n",
    "```\n",
    "rt_nsource=3                             !--Idealized radiation sources------------\n",
    "rt_src_group=1,2,3                       ! Photon groups emitted into\n",
    "rt_source_type=3*’point’                 ! Source geometry (point or square)\n",
    "rt_n_source=0.89d28, 0.99d28, 0.12d28    ! Total of 2d28 photons/s\n",
    "\n",
    "&RT_GROUPS                               ! Blackbody at T=1d5 Kelvin\n",
    "group_csn(1,:)= 3.0d-18, 0.,0.           ! group 1-> HI, HeI, HeII\n",
    "group_cse(1,:)= 2.8d-18, 0.,0.           ! group 1-> HI, HeI, HeII\n",
    "group_csn(2,:)= 5.7d-19, 0.,0.           ! group 2-> HI, HeI, HeII\n",
    "group_cse(2,:)= 5.0d-19, 0.,0.           ! group 2-> HI, HeI, HeII\n",
    "group_csn(3,:)= 7.9d-20, 0.,0.           ! group 3-> HI, HeI, HeII\n",
    "group_cse(3,:)= 7.5d-20, 0.,0.           ! group 3-> HI, HeI, HeII\n",
    "group_egy = 18.8, 35.1, 65.6             ! energy in units of eV\n",
    "/\n",
    "```\n",
    "What happens to the I-front? You can also compare with a harder source of radiation, here a blackbody at $T = 3 \\times 10^5$ K:\n",
    "```\n",
    "rt_nsource=3                             !--Idealized radiation sources------------\n",
    "rt_src_group=1,2,3                       ! Photon groups emitted into\n",
    "rt_source_type=3*’point’                 ! Source geometry (point or square)\n",
    "rt_n_source=0.19d28, 0.63d28, 1.2d28     ! Total of 2d28 photons/s\n",
    "\n",
    "&RT_GROUPS                               ! Blackbody at T=3d5 Kelvin\n",
    "group_csn(1,:)= 2.8d-18, 0.,0.\n",
    "group_cse(1,:)= 2.6d-18, 0.,0.\n",
    "group_csn(2,:)= 4.1d-19, 0.,0.\n",
    "group_cse(2,:)= 3.6d-19, 0.,0.\n",
    "group_csn(3,:)= 3.9d-20, 0.,0.\n",
    "group_cse(3,:)= 2.8d-20, 0.,0.\n",
    "group_egy = 19.4, 39.6, 99.0\n",
    "/\n",
    "```\n",
    "\n",
    "#### Helium\n",
    "If you still have time (remember there are more problems to do), you can add helium to the mix. If you’ve already set up the three photon groups in the previous problem, all you need to do is specify in the namelist the hydrogen and helium mass fractions (`X=0.76 and Y=0.24`), and set the cross sections for helium ionization. For a $T = 10^5$ K blackbody, separated into HI-ionizing, HeI-ionizing and HeII-ionizing photon groups, these are:\n",
    "```\n",
    "rt_nsource=3                             !--Idealized radiation sources------------\n",
    "rt_src_group=1,2,3                       ! Photon groups emitted into\n",
    "rt_source_type=3*’point’                 ! Source geometry (point or square)\n",
    "rt_n_source=0.89d28, 0.99d28, 0.12d28    ! Total of 2d28 photons/s\n",
    "\n",
    "&RT_GROUPS                               ! Blackbody at T=1d5 Kelvin\n",
    "group_csn(1,:)= 3.0d-18, 0., 0.\n",
    "group_cse(1,:)= 2.8d-18, 0., 0.\n",
    "group_csn(2,:)= 5.7d-19, 4.5d-18, 0.\n",
    "group_cse(2,:)= 5.0d-19, 4.1d-18, 0.\n",
    "group_csn(3,:)= 7.9d-20, 1.2d-18, 1.1d-18\n",
    "group_cse(3,:)= 7.5d-20, 1.1d-18, 1.0d-18\n",
    "group_egy = 18.8, 35.1, 65.6\n",
    "/\n",
    "```\n",
    "\n",
    "What happens to the I-front?\n",
    "\n",
    "#### Other\n",
    "You could try inserting multiple radiation sources into the frame, or beams of radiation."
   ]
  },
  {
   "cell_type": "code",
   "execution_count": null,
   "id": "d6fa4663-8f12-420a-a945-ba1f1eb1536c",
   "metadata": {},
   "outputs": [],
   "source": []
  }
 ],
 "metadata": {
  "kernelspec": {
   "display_name": "Python 3 (ipykernel)",
   "language": "python",
   "name": "python3"
  },
  "language_info": {
   "codemirror_mode": {
    "name": "ipython",
    "version": 3
   },
   "file_extension": ".py",
   "mimetype": "text/x-python",
   "name": "python",
   "nbconvert_exporter": "python",
   "pygments_lexer": "ipython3",
   "version": "3.12.4"
  }
 },
 "nbformat": 4,
 "nbformat_minor": 5
}
