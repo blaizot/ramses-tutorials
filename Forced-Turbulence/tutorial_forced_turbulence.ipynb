{
 "cells": [
  {
   "cell_type": "markdown",
   "metadata": {},
   "source": [
    "# Turbulent box tutorial"
   ]
  },
  {
   "cell_type": "markdown",
   "metadata": {},
   "source": [
    "## Instalation"
   ]
  },
  {
   "cell_type": "markdown",
   "metadata": {},
   "source": [
    "The tools we use are RAMSES and Osyris. More information on the codes here:\n",
    "- https://github.com/nvaytet/osyris\n",
    "- https://github.com/ramses-organisation/ramses"
   ]
  },
  {
   "cell_type": "markdown",
   "metadata": {},
   "source": [
    "To install osyris, simply do"
   ]
  },
  {
   "cell_type": "code",
   "execution_count": null,
   "metadata": {},
   "outputs": [],
   "source": [
    "%pip install osyris==2.11"
   ]
  },
  {
   "cell_type": "markdown",
   "metadata": {},
   "source": [
    "You can also install it by cloning directly the source. In this case, please follow the instruction on the GitHub webpage (https://osyris.readthedocs.io/en/latest/installation.html).\n",
    "Note that for now the tutorials are written for Osyris 2.11 and don't work with Osyris 3."
   ]
  },
  {
   "cell_type": "markdown",
   "metadata": {},
   "source": [
    "To download RAMSES, do in your terminal"
   ]
  },
  {
   "cell_type": "code",
   "execution_count": null,
   "metadata": {
    "vscode": {
     "languageId": "shellscript"
    }
   },
   "outputs": [],
   "source": [
    "%%bash\n",
    "git clone https://github.com/ramses-organisation/ramses.git"
   ]
  },
  {
   "cell_type": "markdown",
   "metadata": {},
   "source": [
    "To compile ramses, you need at least a fortran compiler, either fortran (GNU compiler) or ifort (Intel compiler). You can get more information on the GNU compiler here:\n",
    "https://gcc.gnu.org/fortran/\n",
    "https://fortran-lang.org/learn/os_setup/install_gfortran\n",
    "\n",
    "To run the turbulence driving simulations, you also need the FFTW library. Please follow what is explained in the file ramses/turb/README."
   ]
  },
  {
   "cell_type": "markdown",
   "metadata": {},
   "source": [
    "## Run RAMSES"
   ]
  },
  {
   "cell_type": "markdown",
   "metadata": {},
   "source": [
    "Once you downloaded RAMSES, go in the main directory (`cd ramses`)"
   ]
  },
  {
   "cell_type": "markdown",
   "metadata": {},
   "source": [
    "### You can first run the test suite:"
   ]
  },
  {
   "cell_type": "markdown",
   "metadata": {},
   "source": [
    "For each test, there is first a compilation (using the config.txt file of each test), then the code runs (using the namelist files .nml) and finally results are    plotted using the plot-test-name.py routines.\n",
    "\n",
    "There are various options for the test suite:    \n",
    "```bash\n",
    "#      - Run the suite in parallel (on 4 cpus):\n",
    "              ./run_test_suite.sh -p 4\n",
    "#      - Do not delete results data:\n",
    "             ./run_test_suite.sh -d\n",
    "#      - Run in verbose mode:\n",
    "              ./run_test_suite.sh -v\n",
    "#      - Select test number (for tests 3 to 5, and 10):\n",
    "              ./run_test_suite.sh -t 3-5,10\n",
    "#      - Run all tests in mhd directory:\n",
    "              ./run_test_suite.sh -t mhd\n",
    "#      - Run quick test suite:\n",
    "              ./run_test_suite.sh -q\n",
    "```\n",
    "The option `-d` is quite useful if you want to work more on the data than what is proposed in the test suite. I would also recommend to use the `-y` option to use python for visualisation.\n",
    "\n",
    "The turbulence driving test is the test number [16]. You will find in the directory `tests/turb/driving`  the routine plot-driving.py that can be an alternative to the use of osyris. In particular, you can produce column density maps that could be applied to the tools you learned last week!\n",
    "\n",
    "Of course, you can also play with all the other tests! Note that you can find information on the namelist parameters you can play with here: https://ramses-organisation.readthedocs.io/en/latest/wiki/Runtime_Parameters.html"
   ]
  },
  {
   "cell_type": "code",
   "execution_count": null,
   "metadata": {
    "vscode": {
     "languageId": "shellscript"
    }
   },
   "outputs": [],
   "source": [
    "%%bash\n",
    "cd ramses/tests\n",
    "./run_test_suite.sh -t turb -p 4 "
   ]
  },
  {
   "cell_type": "markdown",
   "metadata": {},
   "source": [
    "This will run the test suite for the turbulence test case with 4 MPI processes."
   ]
  },
  {
   "cell_type": "markdown",
   "metadata": {},
   "source": [
    "### You can then compile directly ramses"
   ]
  },
  {
   "cell_type": "markdown",
   "metadata": {},
   "source": [
    "Go to the bin directory and update the Makefile: NDIM=3 & USE_TURB=1 \n",
    "\n",
    "_(note that this corresponds to the FLAGS indicated in the file config.txt of the turbulence driving test)._\n",
    "\n",
    "**Then**, still in the bin directory\n"
   ]
  },
  {
   "cell_type": "code",
   "execution_count": null,
   "metadata": {
    "vscode": {
     "languageId": "shellscript"
    }
   },
   "outputs": [],
   "source": [
    "%%bash\n",
    "cd ramses/bin\n",
    "make clean\n",
    "make NDIM=3 USE_TURB=1 MPI=1 "
   ]
  },
  {
   "cell_type": "markdown",
   "metadata": {},
   "source": [
    "You should have a file ramses3d that has been created (if not, double check that you updated the Makefile correctly)."
   ]
  },
  {
   "cell_type": "code",
   "execution_count": null,
   "metadata": {
    "vscode": {
     "languageId": "shellscript"
    }
   },
   "outputs": [],
   "source": [
    "%%bash\n",
    "ls ramses/bin"
   ]
  },
  {
   "cell_type": "markdown",
   "metadata": {},
   "source": [
    "You can then run ramses. \n",
    "If you have MPI installed you can run on 4 processors: `mpirun -np 4 ramses3d driving.nml`"
   ]
  },
  {
   "cell_type": "code",
   "execution_count": null,
   "metadata": {
    "vscode": {
     "languageId": "shellscript"
    }
   },
   "outputs": [],
   "source": [
    "%%bash \n",
    "cp ramses/bin/ramses3d ramses/tests/turb/driving/\n",
    "cd ramses/tests/turb/driving/\n",
    "./ramses3d driving.nml "
   ]
  },
  {
   "cell_type": "markdown",
   "metadata": {
    "vscode": {
     "languageId": "shellscript"
    }
   },
   "source": [
    "You can now play with the namelist parameters. You can change the resolution (`levelmin=5`, `levelmax=5` for a 32^3 resolution simulation).\n",
    "You can add more outputs using the parameter foutput in &OUTPUT_PARAMS\n"
   ]
  },
  {
   "cell_type": "markdown",
   "metadata": {},
   "source": [
    "```config\n",
    "&OUTPUT_PARAMS\n",
    "noutput=2\n",
    "tout=0.0,0.5\n",
    "foutput=25 ! Output every 25 steps\n",
    "/\n",
    "```\n"
   ]
  },
  {
   "cell_type": "markdown",
   "metadata": {},
   "source": [
    "\n",
    "Enjoy!"
   ]
  },
  {
   "cell_type": "markdown",
   "metadata": {},
   "source": [
    "## Use Osyris to visualise the data"
   ]
  },
  {
   "cell_type": "markdown",
   "metadata": {},
   "source": [
    "You can check the documentation of osyris [here](https://osyris.readthedocs.io/en/stable/index.html)."
   ]
  },
  {
   "cell_type": "markdown",
   "metadata": {},
   "source": [
    "### Plot a density slice"
   ]
  },
  {
   "cell_type": "markdown",
   "metadata": {},
   "source": [
    "\n",
    "Modify the code below to \n",
    "- Add an extra layer with the velocity as arrows\n",
    "- Change the spatial units to pc (you can use the parameter `dx`)\n",
    "- Change the density unit to solar masses to pc^2\n",
    "- Change the colormap to inferno\n",
    "\n",
    "The final output should look like that:\n",
    "\n",
    "![expected_slice](slice.png)"
   ]
  },
  {
   "cell_type": "code",
   "execution_count": null,
   "metadata": {},
   "outputs": [],
   "source": [
    "import osyris\n",
    "import numpy as np\n",
    "import matplotlib.pyplot as plt\n",
    "\n",
    "data = osyris.RamsesDataset(2, path=\"ramses/tests/turb/driving/\").load() # load output number 20. \n",
    "center = osyris.Vector(x=2, y=2, z=2, unit=\"pc\") # Choose the center of the box\n",
    "\n",
    "osyris.map(\n",
    "    data[\"mesh\"].layer(\"density\"),  # layer 1 : density\n",
    "    norm=\"log\", origin=center, direction=\"z\")"
   ]
  }
 ],
 "metadata": {
  "kernelspec": {
   "display_name": "Python 3 (ipykernel)",
   "language": "python",
   "name": "python3"
  },
  "language_info": {
   "codemirror_mode": {
    "name": "ipython",
    "version": 3
   },
   "file_extension": ".py",
   "mimetype": "text/x-python",
   "name": "python",
   "nbconvert_exporter": "python",
   "pygments_lexer": "ipython3",
   "version": "3.12.4"
  }
 },
 "nbformat": 4,
 "nbformat_minor": 4
}
